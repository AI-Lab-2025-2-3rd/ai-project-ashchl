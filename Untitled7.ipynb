{
  "nbformat": 4,
  "nbformat_minor": 0,
  "metadata": {
    "colab": {
      "provenance": [],
      "include_colab_link": true
    },
    "kernelspec": {
      "name": "python3",
      "display_name": "Python 3"
    },
    "language_info": {
      "name": "python"
    }
  },
  "cells": [
    {
      "cell_type": "markdown",
      "metadata": {
        "id": "view-in-github",
        "colab_type": "text"
      },
      "source": [
        "<a href=\"https://colab.research.google.com/github/AI-Lab-2025-2-3rd/ai-project-ashchl/blob/ashchl/Untitled7.ipynb\" target=\"_parent\"><img src=\"https://colab.research.google.com/assets/colab-badge.svg\" alt=\"Open In Colab\"/></a>"
      ]
    },
    {
      "cell_type": "code",
      "execution_count": null,
      "metadata": {
        "id": "C17iikf-WuWN"
      },
      "outputs": [],
      "source": [
        "import pandas as pd\n",
        "import numpy as np\n",
        "import matplotlib.pyplot as plt\n",
        "import seaborn as sns\n",
        "import warnings\n",
        "from sklearn.preprocessing import LabelEncoder, StandardScaler\n",
        "from sklearn.model_selection import train_test_split, StratifiedKFold\n",
        "from sklearn.metrics import classification_report, confusion_matrix\n",
        "import scipy.stats as stats\n",
        "import random\n",
        "import os"
      ]
    },
    {
      "cell_type": "code",
      "source": [
        "def seed_everything(seed):\n",
        "    random.seed(seed)\n",
        "    os.environ['PYTHONHASHSEED'] = str(seed)\n",
        "    np.random.seed(seed)\n",
        "\n",
        "seed_everything(42) # Seed 고정"
      ],
      "metadata": {
        "id": "Q_wqWWsVVUCa"
      },
      "execution_count": null,
      "outputs": []
    },
    {
      "cell_type": "code",
      "source": [
        "train = pd.read_csv('train.csv')\n",
        "test = pd.read_csv('test.csv')\n",
        "sample_submission = pd.read_csv('sample_submission.csv')"
      ],
      "metadata": {
        "id": "Pq5llRkxVZuX"
      },
      "execution_count": null,
      "outputs": []
    },
    {
      "cell_type": "code",
      "source": [
        "train.head()"
      ],
      "metadata": {
        "id": "kddmcVVKVaQg"
      },
      "execution_count": null,
      "outputs": []
    },
    {
      "cell_type": "code",
      "source": [
        "test.head()"
      ],
      "metadata": {
        "id": "qkPSRYmyVcDK"
      },
      "execution_count": null,
      "outputs": []
    },
    {
      "cell_type": "code",
      "source": [
        "print(train.shape)\n",
        "print(test.shape)\n",
        "print(sample_submission.shape)\n",
        "print(f\"Target distribution:\\n{train['support_needs'].value_counts(normalize=True)*100}\")\n",
        "# Target variable distribution\n",
        "target_counts = train['support_needs'].value_counts().sort_index()\n",
        "target_ratio = train['support_needs'].value_counts(normalize=True).sort_index()\n",
        "\n",
        "fig, (ax1) = plt.subplots(1, figsize=(14, 6))\n",
        "\n",
        "# Bar chart\n",
        "target_counts.plot(kind='bar', ax=ax1, color=['#3498db', '#e74c3c', '#2ecc71'])\n",
        "ax1.set_title('Customer Count by Support Level', fontsize=14, pad=20)\n",
        "ax1.set_xlabel('Support Level', fontsize=12)\n",
        "ax1.set_ylabel('Customer Count', fontsize=12)\n",
        "ax1.set_xticklabels(['Level 0', 'Level 1', 'Level 2'], rotation=0)"
      ],
      "metadata": {
        "id": "BMjnQn3aVeFq"
      },
      "execution_count": null,
      "outputs": []
    },
    {
      "cell_type": "code",
      "source": [
        "train.isnull().sum(), test.isnull().sum()"
      ],
      "metadata": {
        "id": "C0B6Dx6GVfiC"
      },
      "execution_count": null,
      "outputs": []
    },
    {
      "cell_type": "code",
      "source": [
        "train.info(), test.info()"
      ],
      "metadata": {
        "id": "KPcn9OKtVhh9"
      },
      "execution_count": null,
      "outputs": []
    },
    {
      "cell_type": "code",
      "source": [
        "train['gender'] = train['gender'].map({'F':0, \"M\": 1})\n",
        "test['gender'] = test['gender'].map({'F':0, \"M\": 1})\n",
        "\n",
        "train['subscription_type'] = train['subscription_type'].map({'member' : 0, 'plus' : 1, 'vip' : 2})\n",
        "test['subscription_type'] = test['subscription_type'].map({'member' : 0, 'plus' : 1, 'vip' : 2})"
      ],
      "metadata": {
        "id": "362gMltDVjFn"
      },
      "execution_count": null,
      "outputs": []
    },
    {
      "cell_type": "code",
      "source": [
        "x_train = train.drop(columns =['ID', 'support_needs'])\n",
        "x_test = test.drop(columns = ['ID'])\n",
        "\n",
        "y_train = train['support_needs']"
      ],
      "metadata": {
        "id": "_96FUgSVVli6"
      },
      "execution_count": null,
      "outputs": []
    },
    {
      "cell_type": "code",
      "source": [
        "categorical_cols = ['gender', 'subscription_type']\n",
        "numerical_cols = [col for col in x_train.columns if col not in categorical_cols]\n",
        "\n",
        "scaler = StandardScaler()\n",
        "x_train[numerical_cols] = scaler.fit_transform(x_train[numerical_cols])\n",
        "x_test[numerical_cols] = scaler.transform(x_test[numerical_cols])"
      ],
      "metadata": {
        "id": "pWfPGdY5VnI2"
      },
      "execution_count": null,
      "outputs": []
    },
    {
      "cell_type": "code",
      "source": [
        "model = LogisticRegression()\n",
        "model.fit(x_train, y_train)"
      ],
      "metadata": {
        "id": "5nuOCgEpVomE"
      },
      "execution_count": null,
      "outputs": []
    },
    {
      "cell_type": "code",
      "source": [
        "preds = model.predict(x_test)"
      ],
      "metadata": {
        "id": "kUUqx9WqVqEK"
      },
      "execution_count": null,
      "outputs": []
    },
    {
      "cell_type": "code",
      "source": [
        "submission = pd.read_csv('sample_submission.csv')\n",
        "submission['support_needs'] = preds"
      ],
      "metadata": {
        "id": "B6yLBfaWVrm1"
      },
      "execution_count": null,
      "outputs": []
    },
    {
      "cell_type": "code",
      "source": [],
      "metadata": {
        "id": "qR31LIqiVtiG"
      },
      "execution_count": null,
      "outputs": []
    }
  ]
}